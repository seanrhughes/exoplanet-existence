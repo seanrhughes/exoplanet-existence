{
 "cells": [
  {
   "cell_type": "code",
   "execution_count": 765,
   "metadata": {},
   "outputs": [],
   "source": [
    "import os\n",
    "from py2neo import Graph, Node, Relationship\n",
    "from graphdatascience import GraphDataScience\n",
    "\n",
    "# Get Neo4j client\n",
    "graph = Graph(\"bolt://localhost:7690\", auth=(\"neo4j\", \"exoplanet\"))"
   ]
  },
  {
   "cell_type": "code",
   "execution_count": 766,
   "metadata": {},
   "outputs": [
    {
     "data": {
      "text/html": [
       "(No data)"
      ],
      "text/plain": [
       "(No data)"
      ]
     },
     "execution_count": 766,
     "metadata": {},
     "output_type": "execute_result"
    }
   ],
   "source": [
    "#create an unknown set of stars to model on. \n",
    "#rand value is percent of database as unknowns\n",
    "create_unknowns = f'''\n",
    "    MATCH (N)\n",
    "    WITH N\n",
    "    WHERE rand() < 0.2\n",
    "    REMOVE N:star\n",
    "    SET N:unknownStar\n",
    "'''\n",
    "\n",
    "graph.run(create_unknowns)"
   ]
  },
  {
   "cell_type": "code",
   "execution_count": 767,
   "metadata": {},
   "outputs": [
    {
     "data": {
      "text/html": [
       "<table><tr><th>modelInfo</th><th>trainConfig</th><th>graphSchema</th><th>loaded</th><th>stored</th><th>creationTime</th><th>shared</th></tr><tr><td style=\"text-align:left\">{modelName: &#039;nr_model&#039;, featureProperties: [&#039;num_planets&#039;, &#039;effective_temperature&#039;, &#039;radius&#039;, &#039;mass&#039;, &#039;metallicity&#039;, &#039;luminosity&#039;, &#039;surface_gravity&#039;, &#039;age&#039;, &#039;density&#039;, &#039;rotational_velocity&#039;, &#039;rotational_period&#039;], modelType: &#039;NodeRegression&#039;, metrics: {MEAN_SQUARED_ERROR: {test: 0.7164596679819795, validation: {min: 0.682950776099251, max: 0.7750458866201602, avg: 0.7165011697143114}, outerTrain: 0.7163053633102167, train: {min: 0.6868734734628394, max: 0.7331744252604133, avg: 0.7164029222783265}}}, pipeline: {featureProperties: [{feature: &#039;num_planets&#039;}, {feature: &#039;effective_temperature&#039;}, {feature: &#039;radius&#039;}, {feature: &#039;mass&#039;}, {feature: &#039;metallicity&#039;}, {feature: &#039;luminosity&#039;}, {feature: &#039;surface_gravity&#039;}, {feature: &#039;age&#039;}, {feature: &#039;density&#039;}, {feature: &#039;rotational_velocity&#039;}, {feature: &#039;rotational_period&#039;}], nodePropertySteps: []}, bestParameters: {minEpochs: 1, maxEpochs: 100, patience: 7, tolerance: 0.4434069566039899, learningRate: 0.0003404910155852413, batchSize: 200, penalty: 69.0, methodName: &#039;LinearRegression&#039;}, nodePropertySteps: []}</td><td style=\"text-align:left\">{targetProperty: &#039;num_planets&#039;, randomSeed: 42, jobId: &#039;5a228f81-c8c5-441b-ba3f-0fa42c92a7e6&#039;, graphName: &#039;prediction_graph&#039;, sudo: false, storeModelToDisk: false, modelName: &#039;nr_model&#039;, logProgress: true, metrics: [&#039;MEAN_SQUARED_ERROR&#039;], pipeline: &#039;pipe&#039;, concurrency: 4, relationshipTypes: [&#039;*&#039;], targetNodeLabels: [&#039;star&#039;]}</td><td style=\"text-align:left\">{graphProperties: {}, nodes: {star: {mass: &#039;Float (DefaultValue(NaN), PERSISTENT)&#039;, num_planets: &#039;Float (DefaultValue(NaN), PERSISTENT)&#039;, rotational_period: &#039;Float (DefaultValue(NaN), PERSISTENT)&#039;, density: &#039;Float (DefaultValue(NaN), PERSISTENT)&#039;, age: &#039;Float (DefaultValue(NaN), PERSISTENT)&#039;, effective_temperature: &#039;Float (DefaultValue(NaN), PERSISTENT)&#039;, rotational_velocity: &#039;Float (DefaultValue(NaN), PERSISTENT)&#039;, radius: &#039;Float (DefaultValue(NaN), PERSISTENT)&#039;, surface_gravity: &#039;Float (DefaultValue(NaN), PERSISTENT)&#039;, luminosity: &#039;Float (DefaultValue(NaN), PERSISTENT)&#039;, metallicity: &#039;Float (DefaultValue(NaN), PERSISTENT)&#039;}}, relationships: {__ALL__: {}}}</td><td style=\"text-align:left\">true</td><td style=\"text-align:left\">false</td><td style=\"text-align:left\">datetime(&#039;2024-01-31T12:44:26.395303000-05:00&#039;)</td><td style=\"text-align:left\">false</td></tr></table>"
      ],
      "text/plain": [
       " modelInfo                                                                                                                                                                                                                                                                                                                                                                                                                                                                                                                                                                                                                                                                                                                                                                                                                                                                                                                                                                                                                                                                                                | trainConfig                                                                                                                                                                                                                                                                                                                            | graphSchema                                                                                                                                                                                                                                                                                                                                                                                                                                                                                                                                                                                                                                                                               | loaded | stored | creationTime                                    | shared \n",
       "----------------------------------------------------------------------------------------------------------------------------------------------------------------------------------------------------------------------------------------------------------------------------------------------------------------------------------------------------------------------------------------------------------------------------------------------------------------------------------------------------------------------------------------------------------------------------------------------------------------------------------------------------------------------------------------------------------------------------------------------------------------------------------------------------------------------------------------------------------------------------------------------------------------------------------------------------------------------------------------------------------------------------------------------------------------------------------------------------------|----------------------------------------------------------------------------------------------------------------------------------------------------------------------------------------------------------------------------------------------------------------------------------------------------------------------------------------|-------------------------------------------------------------------------------------------------------------------------------------------------------------------------------------------------------------------------------------------------------------------------------------------------------------------------------------------------------------------------------------------------------------------------------------------------------------------------------------------------------------------------------------------------------------------------------------------------------------------------------------------------------------------------------------------|--------|--------|-------------------------------------------------|--------\n",
       " {modelName: 'nr_model', featureProperties: ['num_planets', 'effective_temperature', 'radius', 'mass', 'metallicity', 'luminosity', 'surface_gravity', 'age', 'density', 'rotational_velocity', 'rotational_period'], modelType: 'NodeRegression', metrics: {MEAN_SQUARED_ERROR: {test: 0.7164596679819795, validation: {min: 0.682950776099251, max: 0.7750458866201602, avg: 0.7165011697143114}, outerTrain: 0.7163053633102167, train: {min: 0.6868734734628394, max: 0.7331744252604133, avg: 0.7164029222783265}}}, pipeline: {featureProperties: [{feature: 'num_planets'}, {feature: 'effective_temperature'}, {feature: 'radius'}, {feature: 'mass'}, {feature: 'metallicity'}, {feature: 'luminosity'}, {feature: 'surface_gravity'}, {feature: 'age'}, {feature: 'density'}, {feature: 'rotational_velocity'}, {feature: 'rotational_period'}], nodePropertySteps: []}, bestParameters: {minEpochs: 1, maxEpochs: 100, patience: 7, tolerance: 0.4434069566039899, learningRate: 0.0003404910155852413, batchSize: 200, penalty: 69.0, methodName: 'LinearRegression'}, nodePropertySteps: []} | {targetProperty: 'num_planets', randomSeed: 42, jobId: '5a228f81-c8c5-441b-ba3f-0fa42c92a7e6', graphName: 'prediction_graph', sudo: false, storeModelToDisk: false, modelName: 'nr_model', logProgress: true, metrics: ['MEAN_SQUARED_ERROR'], pipeline: 'pipe', concurrency: 4, relationshipTypes: ['*'], targetNodeLabels: ['star']} | {graphProperties: {}, nodes: {star: {mass: 'Float (DefaultValue(NaN), PERSISTENT)', num_planets: 'Float (DefaultValue(NaN), PERSISTENT)', rotational_period: 'Float (DefaultValue(NaN), PERSISTENT)', density: 'Float (DefaultValue(NaN), PERSISTENT)', age: 'Float (DefaultValue(NaN), PERSISTENT)', effective_temperature: 'Float (DefaultValue(NaN), PERSISTENT)', rotational_velocity: 'Float (DefaultValue(NaN), PERSISTENT)', radius: 'Float (DefaultValue(NaN), PERSISTENT)', surface_gravity: 'Float (DefaultValue(NaN), PERSISTENT)', luminosity: 'Float (DefaultValue(NaN), PERSISTENT)', metallicity: 'Float (DefaultValue(NaN), PERSISTENT)'}}, relationships: {__ALL__: {}}} | true   | false  | datetime('2024-01-31T12:44:26.395303000-05:00') | false  "
      ]
     },
     "execution_count": 767,
     "metadata": {},
     "output_type": "execute_result"
    }
   ],
   "source": [
    "##drop functions for pipeline, prediction graph\n",
    "drop_pipeline = f'''\n",
    "    CALL gds.beta.pipeline.drop('pipe', False)\n",
    "'''\n",
    "drop_prediction_graph = f'''\n",
    "    CALL gds.graph.drop('prediction_graph', False)\n",
    "'''\n",
    "drop_model = f'''\n",
    "    CALL gds.beta.model.drop('nr_model', False)\n",
    "'''\n",
    "\n",
    "graph.run(drop_pipeline)\n",
    "graph.run(drop_prediction_graph)\n",
    "graph.run(drop_model)"
   ]
  },
  {
   "cell_type": "code",
   "execution_count": 768,
   "metadata": {},
   "outputs": [
    {
     "data": {
      "text/html": [
       "<table><tr><th>nodeProjection</th><th>relationshipProjection</th><th>graphName</th><th>nodeCount</th><th>relationshipCount</th><th>projectMillis</th></tr><tr><td style=\"text-align:left\">{unknownStar: {label: &#039;unknownStar&#039;, properties: {mass: {property: &#039;mass&#039;, defaultValue: null}, num_planets: {property: &#039;num_planets&#039;, defaultValue: null}, rotational_period: {property: &#039;rotational_period&#039;, defaultValue: null}, density: {property: &#039;density&#039;, defaultValue: null}, age: {property: &#039;age&#039;, defaultValue: null}, effective_temperature: {property: &#039;effective_temperature&#039;, defaultValue: null}, rotational_velocity: {property: &#039;rotational_velocity&#039;, defaultValue: null}, radius: {property: &#039;radius&#039;, defaultValue: null}, surface_gravity: {property: &#039;surface_gravity&#039;, defaultValue: null}, luminosity: {property: &#039;luminosity&#039;, defaultValue: null}, metallicity: {property: &#039;metallicity&#039;, defaultValue: null}}}, star: {label: &#039;star&#039;, properties: {mass: {property: &#039;mass&#039;, defaultValue: null}, num_planets: {property: &#039;num_planets&#039;, defaultValue: null}, rotational_period: {property: &#039;rotational_period&#039;, defaultValue: null}, density: {property: &#039;density&#039;, defaultValue: null}, age: {property: &#039;age&#039;, defaultValue: null}, effective_temperature: {property: &#039;effective_temperature&#039;, defaultValue: null}, rotational_velocity: {property: &#039;rotational_velocity&#039;, defaultValue: null}, radius: {property: &#039;radius&#039;, defaultValue: null}, surface_gravity: {property: &#039;surface_gravity&#039;, defaultValue: null}, luminosity: {property: &#039;luminosity&#039;, defaultValue: null}, metallicity: {property: &#039;metallicity&#039;, defaultValue: null}}}}</td><td style=\"text-align:left\">{__ALL__: {aggregation: &#039;DEFAULT&#039;, orientation: &#039;NATURAL&#039;, indexInverse: false, properties: {}, type: &#039;*&#039;}}</td><td style=\"text-align:left\">prediction_graph</td><td style=\"text-align:right\">4147</td><td style=\"text-align:right\">0</td><td style=\"text-align:right\">14</td></tr></table>"
      ],
      "text/plain": [
       " nodeProjection                                                                                                                                                                                                                                                                                                                                                                                                                                                                                                                                                                                                                                                                                                                                                                                                                                                                                                                                                                                                                                                                                                                                                                                                                                                                                                                                                                                                                                                               | relationshipProjection                                                                                      | graphName        | nodeCount | relationshipCount | projectMillis \n",
       "------------------------------------------------------------------------------------------------------------------------------------------------------------------------------------------------------------------------------------------------------------------------------------------------------------------------------------------------------------------------------------------------------------------------------------------------------------------------------------------------------------------------------------------------------------------------------------------------------------------------------------------------------------------------------------------------------------------------------------------------------------------------------------------------------------------------------------------------------------------------------------------------------------------------------------------------------------------------------------------------------------------------------------------------------------------------------------------------------------------------------------------------------------------------------------------------------------------------------------------------------------------------------------------------------------------------------------------------------------------------------------------------------------------------------------------------------------------------------|-------------------------------------------------------------------------------------------------------------|------------------|-----------|-------------------|---------------\n",
       " {unknownStar: {label: 'unknownStar', properties: {mass: {property: 'mass', defaultValue: null}, num_planets: {property: 'num_planets', defaultValue: null}, rotational_period: {property: 'rotational_period', defaultValue: null}, density: {property: 'density', defaultValue: null}, age: {property: 'age', defaultValue: null}, effective_temperature: {property: 'effective_temperature', defaultValue: null}, rotational_velocity: {property: 'rotational_velocity', defaultValue: null}, radius: {property: 'radius', defaultValue: null}, surface_gravity: {property: 'surface_gravity', defaultValue: null}, luminosity: {property: 'luminosity', defaultValue: null}, metallicity: {property: 'metallicity', defaultValue: null}}}, star: {label: 'star', properties: {mass: {property: 'mass', defaultValue: null}, num_planets: {property: 'num_planets', defaultValue: null}, rotational_period: {property: 'rotational_period', defaultValue: null}, density: {property: 'density', defaultValue: null}, age: {property: 'age', defaultValue: null}, effective_temperature: {property: 'effective_temperature', defaultValue: null}, rotational_velocity: {property: 'rotational_velocity', defaultValue: null}, radius: {property: 'radius', defaultValue: null}, surface_gravity: {property: 'surface_gravity', defaultValue: null}, luminosity: {property: 'luminosity', defaultValue: null}, metallicity: {property: 'metallicity', defaultValue: null}}}} | {__ALL__: {aggregation: 'DEFAULT', orientation: 'NATURAL', indexInverse: false, properties: {}, type: '*'}} | prediction_graph |      4147 |                 0 |            14 "
      ]
     },
     "execution_count": 768,
     "metadata": {},
     "output_type": "execute_result"
    }
   ],
   "source": [
    "#blank map\n",
    "star_properties = '''\n",
    "{\n",
    "    star: {properties: ['num_planets', 'effective_temperature', 'radius',\n",
    "    'mass', 'metallicity', 'luminosity', 'surface_gravity', 'age',\n",
    "    'density', 'rotational_velocity', 'rotational_period']},\n",
    "    unknownStar: {properties: ['num_planets', 'effective_temperature', 'radius',\n",
    "    'mass', 'metallicity', 'luminosity', 'surface_gravity', 'age',\n",
    "    'density', 'rotational_velocity', 'rotational_period']}\n",
    "}\n",
    "'''\n",
    "#create prediction graph\n",
    "create_prediction_graph = f'''\n",
    "    CALL gds.graph.project(\n",
    "    'prediction_graph',\n",
    "    {star_properties},\n",
    "    '*'\n",
    "    )\n",
    "'''\n",
    "\n",
    "graph.run(create_prediction_graph)"
   ]
  },
  {
   "cell_type": "code",
   "execution_count": 769,
   "metadata": {},
   "outputs": [
    {
     "data": {
      "text/html": [
       "<table><tr><th>name</th><th>nodePropertySteps</th><th>featureProperties</th><th>splitConfig</th><th>autoTuningConfig</th><th>parameterSpace</th></tr><tr><td style=\"text-align:left\">pipe</td><td style=\"text-align:left\">[]</td><td style=\"text-align:left\">[]</td><td style=\"text-align:left\">{testFraction: 0.3, validationFolds: 3}</td><td style=\"text-align:left\">{maxTrials: 10}</td><td style=\"text-align:left\">{LinearRegression: [], RandomForest: []}</td></tr></table>"
      ],
      "text/plain": [
       " name | nodePropertySteps | featureProperties | splitConfig                             | autoTuningConfig | parameterSpace                           \n",
       "------|-------------------|-------------------|-----------------------------------------|------------------|------------------------------------------\n",
       " pipe | []                | []                | {testFraction: 0.3, validationFolds: 3} | {maxTrials: 10}  | {LinearRegression: [], RandomForest: []} "
      ]
     },
     "execution_count": 769,
     "metadata": {},
     "output_type": "execute_result"
    }
   ],
   "source": [
    "#create/config pipeline\n",
    "create_pipeline = f'''\n",
    "    CALL gds.alpha.pipeline.nodeRegression.create('pipe')\n",
    "'''\n",
    "\n",
    "graph.run(create_pipeline)"
   ]
  },
  {
   "cell_type": "code",
   "execution_count": 770,
   "metadata": {},
   "outputs": [
    {
     "data": {
      "text/html": [
       "<table><tr><th>name</th><th>nodePropertySteps</th><th>featureProperties</th><th>splitConfig</th><th>autoTuningConfig</th><th>parameterSpace</th></tr><tr><td style=\"text-align:left\">pipe</td><td style=\"text-align:left\">[]</td><td style=\"text-align:left\">[]</td><td style=\"text-align:left\">{testFraction: 0.4, validationFolds: 3}</td><td style=\"text-align:left\">{maxTrials: 10}</td><td style=\"text-align:left\">{LinearRegression: [], RandomForest: []}</td></tr></table>"
      ],
      "text/plain": [
       " name | nodePropertySteps | featureProperties | splitConfig                             | autoTuningConfig | parameterSpace                           \n",
       "------|-------------------|-------------------|-----------------------------------------|------------------|------------------------------------------\n",
       " pipe | []                | []                | {testFraction: 0.4, validationFolds: 3} | {maxTrials: 10}  | {LinearRegression: [], RandomForest: []} "
      ]
     },
     "execution_count": 770,
     "metadata": {},
     "output_type": "execute_result"
    }
   ],
   "source": [
    "#split config \n",
    "split_config = '''\n",
    "{\n",
    "    testFraction: 0.4,\n",
    "    validationFolds: 3\n",
    "}\n",
    "'''\n",
    "\n",
    "splits = f'''\n",
    "    CALL gds.alpha.pipeline.nodeRegression.configureSplit('pipe', {split_config})\n",
    "'''\n",
    "\n",
    "graph.run(splits)"
   ]
  },
  {
   "cell_type": "code",
   "execution_count": 771,
   "metadata": {},
   "outputs": [
    {
     "data": {
      "text/html": [
       "<table><tr><th>name</th><th>nodePropertySteps</th><th>featureProperties</th><th>splitConfig</th><th>autoTuningConfig</th><th>parameterSpace</th></tr><tr><td style=\"text-align:left\">pipe</td><td style=\"text-align:left\">[]</td><td style=\"text-align:left\">[&#039;num_planets&#039;, &#039;effective_temperature&#039;, &#039;radius&#039;, &#039;mass&#039;, &#039;metallicity&#039;, &#039;luminosity&#039;, &#039;surface_gravity&#039;, &#039;age&#039;, &#039;density&#039;, &#039;rotational_velocity&#039;, &#039;rotational_period&#039;]</td><td style=\"text-align:left\">{testFraction: 0.4, validationFolds: 3}</td><td style=\"text-align:left\">{maxTrials: 10}</td><td style=\"text-align:left\">{LinearRegression: [], RandomForest: []}</td></tr></table>"
      ],
      "text/plain": [
       " name | nodePropertySteps | featureProperties                                                                                                                                                        | splitConfig                             | autoTuningConfig | parameterSpace                           \n",
       "------|-------------------|--------------------------------------------------------------------------------------------------------------------------------------------------------------------------|-----------------------------------------|------------------|------------------------------------------\n",
       " pipe | []                | ['num_planets', 'effective_temperature', 'radius', 'mass', 'metallicity', 'luminosity', 'surface_gravity', 'age', 'density', 'rotational_velocity', 'rotational_period'] | {testFraction: 0.4, validationFolds: 3} | {maxTrials: 10}  | {LinearRegression: [], RandomForest: []} "
      ]
     },
     "execution_count": 771,
     "metadata": {},
     "output_type": "execute_result"
    }
   ],
   "source": [
    "#add features\n",
    "add_features = f'''\n",
    "    CALL gds.alpha.pipeline.nodeRegression.selectFeatures('pipe',\n",
    "    ['num_planets', 'effective_temperature', 'radius',\n",
    "    'mass', 'metallicity', 'luminosity', 'surface_gravity', 'age',\n",
    "    'density', 'rotational_velocity', 'rotational_period'])\n",
    "'''\n",
    "\n",
    "graph.run(add_features)"
   ]
  },
  {
   "cell_type": "code",
   "execution_count": 772,
   "metadata": {},
   "outputs": [],
   "source": [
    "#add model candidates\n",
    "\n",
    "\n",
    "linear_config = '''\n",
    "{\n",
    "    batchSize: {range: [1, 300]},\n",
    "    learningRate: {range: [.0001, .01]},\n",
    "    patience: {range: [1, 10]},\n",
    "    tolerance: {range: [.001, 3]},\n",
    "    penalty: {range: [0, 100]}\n",
    "}\n",
    "'''\n",
    "\n",
    "\n",
    "linear_regression = f'''\n",
    "    CALL gds.alpha.pipeline.nodeRegression.addLinearRegression('pipe', {linear_config})\n",
    "'''\n",
    "\n",
    "graph.run(linear_regression)\n",
    "\n",
    "forest_config = '''\n",
    "{\n",
    "\n",
    "}\n",
    "'''\n",
    "\n",
    "random_forest = f'''\n",
    "    CALL gds.alpha.pipeline.nodeRegression.addRandomForest('pipe',{forest_config})\n",
    "'''\n",
    "\n",
    "#graph.run(random_forest)\n"
   ]
  },
  {
   "cell_type": "code",
   "execution_count": 773,
   "metadata": {},
   "outputs": [
    {
     "data": {
      "text/html": [
       "<table><tr><th>winningModel</th><th>avgTrainScore</th><th>outerTrainScore</th><th>testScore</th><th>absoluteTestScore</th></tr><tr><td style=\"text-align:left\">{minEpochs: 1, maxEpochs: 100, patience: 7, tolerance: 0.4434069566039899, learningRate: 0.0003404910155852413, batchSize: 200, penalty: 69.0, methodName: &#039;LinearRegression&#039;}</td><td style=\"text-align:right\">0.6370290564198267</td><td style=\"text-align:right\">0.6373486730946374</td><td style=\"text-align:right\">0.8813055614850053</td><td style=\"text-align:right\">null</td></tr></table>"
      ],
      "text/plain": [
       " winningModel                                                                                                                                                                   |      avgTrainScore |    outerTrainScore |          testScore | absoluteTestScore \n",
       "--------------------------------------------------------------------------------------------------------------------------------------------------------------------------------|--------------------|--------------------|--------------------|-------------------\n",
       " {minEpochs: 1, maxEpochs: 100, patience: 7, tolerance: 0.4434069566039899, learningRate: 0.0003404910155852413, batchSize: 200, penalty: 69.0, methodName: 'LinearRegression'} | 0.6370290564198267 | 0.6373486730946374 | 0.8813055614850053 |              null "
      ]
     },
     "execution_count": 773,
     "metadata": {},
     "output_type": "execute_result"
    }
   ],
   "source": [
    "#training the pipeline\n",
    "train_config = '''\n",
    "{\n",
    "    pipeline: 'pipe',\n",
    "    targetNodeLabels: ['star'],\n",
    "    modelName: 'nr_model',\n",
    "    targetProperty: 'num_planets',\n",
    "    randomSeed: 42,\n",
    "    metrics: ['MEAN_SQUARED_ERROR', MEAN_ABSOLUTE_ERROR]\n",
    "}\n",
    "'''\n",
    "\n",
    "train_pipeline = f'''\n",
    "    CALL gds.alpha.pipeline.nodeRegression.train('prediction_graph', {train_config})\n",
    "    YIELD modelInfo\n",
    "    RETURN\n",
    "    modelInfo.bestParameters as winningModel,\n",
    "    modelInfo.metrics.MEAN_SQUARED_ERROR.train.avg AS avgTrainScore,\n",
    "    modelInfo.metrics.MEAN_SQUARED_ERROR.outerTrain AS outerTrainScore,\n",
    "    modelInfo.metrics.MEAN_SQUARED_ERROR.test AS testScore,\n",
    "    modelInfo.metrics.MEAN_ABSOLUTE_ERROR.test as absoluteTestScore\n",
    "\n",
    "'''\n",
    "\n",
    "graph.run(train_pipeline)"
   ]
  },
  {
   "cell_type": "code",
   "execution_count": 774,
   "metadata": {},
   "outputs": [
    {
     "data": {
      "text/html": [
       "<table><tr><th>node_ID</th><th>star</th><th>predicted_num_planets</th></tr><tr><td style=\"text-align:right\">3513</td><td style=\"text-align:left\">NSVS 14256825</td><td style=\"text-align:right\">7.0</td></tr><tr><td style=\"text-align:right\">3170</td><td style=\"text-align:left\">Kepler-757</td><td style=\"text-align:right\">1.0</td></tr><tr><td style=\"text-align:right\">3179</td><td style=\"text-align:left\">Kepler-765</td><td style=\"text-align:right\">1.0</td></tr></table>"
      ],
      "text/plain": [
       " node_ID | star          | predicted_num_planets \n",
       "---------|---------------|-----------------------\n",
       "    3513 | NSVS 14256825 |                   7.0 \n",
       "    3170 | Kepler-757    |                   1.0 \n",
       "    3179 | Kepler-765    |                   1.0 "
      ]
     },
     "execution_count": 774,
     "metadata": {},
     "output_type": "execute_result"
    }
   ],
   "source": [
    "#predict\n",
    "predict_config = '''\n",
    "{\n",
    "    modelName: 'nr_model',\n",
    "    targetNodeLabels: ['unknownStar']\n",
    "}\n",
    "'''\n",
    "\n",
    "#streams stars with a number designating the amount predicted planets\n",
    "predict_stream = f'''\n",
    "    CALL gds.alpha.pipeline.nodeRegression.predict.stream('prediction_graph', {predict_config})\n",
    "    YIELD nodeId, predictedValue\n",
    "    WITH gds.util.asNode(nodeId) as node, floor(predictedValue) as predicted_num_planets\n",
    "    RETURN ID(node) AS node_ID, node.id AS star, predicted_num_planets\n",
    "    ORDER BY predicted_num_planets DESC\n",
    "'''\n",
    "\n",
    "#copy paste below if inserting straight to neo4j desktop\n",
    "#CALL gds.alpha.pipeline.nodeRegression.predict.stream('prediction_graph', {modelName: 'nr_model', targetNodeLabels: ['unknownStar']}) YIELD nodeId, predictedValue WITH gds.util.asNode(nodeId) as node, round(predictedValue) as predicted_num_planets RETURN ID(node) AS node_ID, node.id AS star, predicted_num_planets ORDER BY predicted_num_planets DESC\n",
    "\n",
    "#returns a correctness score based on how many it modeled correctly\n",
    "predict_correctness = f'''\n",
    "    CALL gds.alpha.pipeline.nodeRegression.predict.stream('prediction_graph', {predict_config})\n",
    "    YIELD nodeId, predictedValue\n",
    "    WITH gds.util.asNode(nodeId) as node, floor(predictedValue) as predicted_num_planets\n",
    "    WITH node, predicted_num_planets, node.num_planets as actual_num_planets\n",
    "\n",
    "    WITH \n",
    "        ID(node) as node_ID,\n",
    "        node.id AS star,\n",
    "        predicted_num_planets,\n",
    "        actual_num_planets,\n",
    "        CASE WHEN predicted_num_planets = actual_num_planets THEN 1 ELSE 0 END AS is_correct\n",
    "\n",
    "    ORDER BY predicted_num_planets DESC\n",
    "    WITH\n",
    "        SUM(actual_num_planets) AS total_nodes,\n",
    "        SUM(predicted_num_planets) AS correct_predictions\n",
    "\n",
    "    RETURN\n",
    "        correct_predictions AS num_planets_predicted,\n",
    "        total_nodes AS actual_num_planets,\n",
    "        (correct_predictions - total_nodes) / total_nodes * 100.0 AS error\n",
    "'''\n",
    "\n",
    "graph.run(predict_stream)\n",
    "#graph.run(predict_correctness)"
   ]
  },
  {
   "cell_type": "code",
   "execution_count": 775,
   "metadata": {},
   "outputs": [
    {
     "data": {
      "text/html": [
       "(No data)"
      ],
      "text/plain": [
       "(No data)"
      ]
     },
     "execution_count": 775,
     "metadata": {},
     "output_type": "execute_result"
    }
   ],
   "source": [
    "#Reset nodes to defaults\n",
    "reset_unknowns = f'''\n",
    "    MATCH (N:unknownStar)\n",
    "    REMOVE N:unknownStar\n",
    "    SET N:star\n",
    "'''\n",
    "\n",
    "graph.run(reset_unknowns)"
   ]
  }
 ],
 "metadata": {
  "kernelspec": {
   "display_name": "Python 3",
   "language": "python",
   "name": "python3"
  },
  "language_info": {
   "codemirror_mode": {
    "name": "ipython",
    "version": 3
   },
   "file_extension": ".py",
   "mimetype": "text/x-python",
   "name": "python",
   "nbconvert_exporter": "python",
   "pygments_lexer": "ipython3",
   "version": "3.9.7"
  }
 },
 "nbformat": 4,
 "nbformat_minor": 2
}
