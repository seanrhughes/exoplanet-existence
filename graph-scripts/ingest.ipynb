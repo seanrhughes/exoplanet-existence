{
 "cells": [
  {
   "cell_type": "code",
   "execution_count": 49,
   "metadata": {},
   "outputs": [],
   "source": [
    "import os\n",
    "from py2neo import Graph, Node, Relationship\n",
    "from graphdatascience import GraphDataScience\n",
    "\n",
    "# Get Neo4j client\n",
    "graph = Graph(\"bolt://localhost:7690\", auth=(\"neo4j\", \"exoplanet\"))"
   ]
  },
  {
   "cell_type": "code",
   "execution_count": 50,
   "metadata": {},
   "outputs": [
    {
     "data": {
      "text/html": [
       "(No data)"
      ],
      "text/plain": [
       "(No data)"
      ]
     },
     "execution_count": 50,
     "metadata": {},
     "output_type": "execute_result"
    }
   ],
   "source": [
    "#ingest graph\n",
    "\n",
    "#hostname\n",
    "hostname = '''{id:row.hostname}'''\n",
    "\n",
    "#average values across graph are used instead of null\n",
    "graph_ingest = f'''\n",
    "    LOAD CSV WITH HEADERS FROM 'file:///Users/seanhughes/exoplanet-regression/exoplanet-archive.csv'\n",
    "    AS row with row WHERE row.rowid IS NOT NULL\n",
    "    MERGE (s:star {hostname}) \n",
    "    SET s.num_planets = CASE WHEN row.sy_pnum IS NULL THEN 1.3465155534121038\n",
    "        ELSE toFloat(row.sy_pnum) END\n",
    "    SET s.effective_temperature = CASE WHEN row.st_teff IS NULL THEN 5448.605108055012\n",
    "        ELSE toFloat(row.st_teff) END\n",
    "    SET s.radius = CASE WHEN row.st_rad IS NULL THEN 1.6834363268842054\n",
    "        ELSE toFloat(row.st_rad) END\n",
    "    SET s.mass = CASE WHEN row.st_mass IS NULL THEN 0.9517250213492758\n",
    "        ELSE toFloat(row.st_mass) END\n",
    "    SET s.metallicity = CASE WHEN row.st_met IS NULL THEN -0.015200000000000005\n",
    "        ELSE toFloat(row.st_met) END\n",
    "    SET s.luminosity = CASE WHEN row.st_lum IS NULL THEN -0.06765675675675684\n",
    "        ELSE toFloat(row.st_lum) END\n",
    "    SET s.surface_gravity = CASE WHEN row.st_logg IS NULL THEN 4.334519595448796\n",
    "        ELSE toFloat(row.st_logg) END\n",
    "    SET s.age = CASE WHEN row.st_age IS NULL THEN 4.333320425943857\n",
    "        ELSE toFloat(row.st_age) END\n",
    "    SET s.density = CASE WHEN row.st_dens IS NULL THEN 3.9252784858387844\n",
    "        ELSE toFloat(row.st_dens) END\n",
    "    SET s.rotational_velocity = CASE WHEN row.st_vsin IS NULL THEN 6.622277298850581\n",
    "        ELSE toFloat(row.st_vsin) END\n",
    "    SET s.rotational_period = CASE WHEN row.st_rotp IS NULL THEN 114.01032258064515\n",
    "        ELSE toFloat(row.st_rotp) END\n",
    "    SET s.right_ascension = CASE WHEN row.ra IS NULL THEN 236.04321762618747\n",
    "        ELSE toFloat(row.ra) END\n",
    "    SET s.declination = CASE WHEN row.dec IS NULL THEN 18.48100130740296\n",
    "        ELSE toFloat(row.dec) END\n",
    "    SET s.distance = CASE WHEN row.sy_dist IS NULL THEN 761.8417705045799\n",
    "        ELSE toFloat(row.sy_dist) END\n",
    "    SET s.v_magnitude = CASE WHEN row.sy_vmag IS NULL THEN 12.67496672493636\n",
    "        ELSE toFloat(row.sy_vmag) END\n",
    "'''\n",
    "\n",
    "graph.run(graph_ingest)"
   ]
  }
 ],
 "metadata": {
  "kernelspec": {
   "display_name": "Python 3",
   "language": "python",
   "name": "python3"
  },
  "language_info": {
   "codemirror_mode": {
    "name": "ipython",
    "version": 3
   },
   "file_extension": ".py",
   "mimetype": "text/x-python",
   "name": "python",
   "nbconvert_exporter": "python",
   "pygments_lexer": "ipython3",
   "version": "3.9.7"
  }
 },
 "nbformat": 4,
 "nbformat_minor": 2
}
